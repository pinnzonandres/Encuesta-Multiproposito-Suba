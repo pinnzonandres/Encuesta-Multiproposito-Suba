{
 "cells": [
  {
   "cell_type": "markdown",
   "id": "f44934dc-c2c7-42dc-9705-cb9118eb32c4",
   "metadata": {
    "tags": []
   },
   "source": [
    "# Análisis de la Encuesta Multiproposito"
   ]
  },
  {
   "cell_type": "markdown",
   "id": "562eea30-4b0d-4b66-82ad-fecc6ab1c47b",
   "metadata": {
    "tags": []
   },
   "source": [
    "## Importación de Paquetes y carga del archivo"
   ]
  },
  {
   "cell_type": "code",
   "execution_count": 7,
   "id": "84ef7750-d36c-4267-b3b6-e5cbf47e0014",
   "metadata": {},
   "outputs": [],
   "source": [
    "import pandas as pd\n",
    "from matplotlib import pyplot as plt\n",
    "import seaborn as sns\n",
    "from scipy import stats\n",
    "import numpy as np"
   ]
  },
  {
   "cell_type": "code",
   "execution_count": 8,
   "id": "70adc469-3525-4e0b-aa4b-b1a33f61f37e",
   "metadata": {},
   "outputs": [],
   "source": [
    "data = pd.read_csv('Encuesta_Suba_Filtrado_Preguntas.csv', sep = ',')"
   ]
  },
  {
   "cell_type": "code",
   "execution_count": 9,
   "id": "fefc852b-f786-45c4-8190-6f9e6514d0d3",
   "metadata": {},
   "outputs": [
    {
     "data": {
      "text/plain": [
       "(24536, 419)"
      ]
     },
     "execution_count": 9,
     "metadata": {},
     "output_type": "execute_result"
    }
   ],
   "source": [
    "data.shape"
   ]
  },
  {
   "cell_type": "markdown",
   "id": "ae402540-11cb-4439-a6b5-4fa4679f76f4",
   "metadata": {},
   "source": [
    "**Hay en total 24536 encuestados en la Localidad de Suba**"
   ]
  },
  {
   "cell_type": "markdown",
   "id": "fc37d987-7113-4035-903b-dd3c8aadb555",
   "metadata": {
    "tags": []
   },
   "source": [
    "# Revisión de cada columna"
   ]
  },
  {
   "cell_type": "markdown",
   "id": "69df066b-ae7d-4d0c-865f-fa7cd49d3951",
   "metadata": {
    "tags": []
   },
   "source": [
    "## Octava Sección (NPCJP)"
   ]
  },
  {
   "cell_type": "code",
   "execution_count": null,
   "id": "19658d7d-81c7-4d60-afee-2374e78c2d81",
   "metadata": {},
   "outputs": [],
   "source": []
  }
 ],
 "metadata": {
  "kernelspec": {
   "display_name": "Python 3 (ipykernel)",
   "language": "python",
   "name": "python3"
  },
  "language_info": {
   "codemirror_mode": {
    "name": "ipython",
    "version": 3
   },
   "file_extension": ".py",
   "mimetype": "text/x-python",
   "name": "python",
   "nbconvert_exporter": "python",
   "pygments_lexer": "ipython3",
   "version": "3.10.2"
  }
 },
 "nbformat": 4,
 "nbformat_minor": 5
}
