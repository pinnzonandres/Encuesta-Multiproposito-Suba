{
 "cells": [
  {
   "cell_type": "markdown",
   "id": "68a984bb-eeed-4f02-b205-e511b1ad7cf6",
   "metadata": {
    "tags": []
   },
   "source": [
    "# Análisis de la Encuesta Multiproposito"
   ]
  },
  {
   "cell_type": "markdown",
   "id": "97972ce9-70a1-4c6d-87df-007f7c607c00",
   "metadata": {
    "tags": []
   },
   "source": [
    "## Importación de Paquetes y carga del archivo"
   ]
  },
  {
   "cell_type": "code",
   "execution_count": 1,
   "id": "7c173826-9ca2-44df-889d-3dff3b49bcbb",
   "metadata": {},
   "outputs": [],
   "source": [
    "import pandas as pd\n",
    "from matplotlib import pyplot as plt\n",
    "import seaborn as sns\n",
    "from scipy import stats\n",
    "import numpy as np"
   ]
  },
  {
   "cell_type": "code",
   "execution_count": 2,
   "id": "da92aa56-46c4-476c-a20f-667d58ba42e0",
   "metadata": {},
   "outputs": [],
   "source": [
    "data = pd.read_excel('Encuesta_Multiproposito_Suba.xlsx')"
   ]
  },
  {
   "cell_type": "code",
   "execution_count": 3,
   "id": "d71ce959-b74d-4aa6-a8d3-ff6e36d6159d",
   "metadata": {},
   "outputs": [
    {
     "data": {
      "text/plain": [
       "(24536, 498)"
      ]
     },
     "execution_count": 3,
     "metadata": {},
     "output_type": "execute_result"
    }
   ],
   "source": [
    "data.shape"
   ]
  },
  {
   "cell_type": "markdown",
   "id": "0b76d3bc-1fa9-495c-8f4c-29f91db87c44",
   "metadata": {},
   "source": [
    "**Hay en total 24536 encuestados en la Localidad de Suba**"
   ]
  },
  {
   "cell_type": "markdown",
   "id": "e201b39b-a5f0-4c05-8e95-76eac547afa4",
   "metadata": {
    "tags": []
   },
   "source": [
    "# Onceava Sección (NPCLP)"
   ]
  },
  {
   "cell_type": "markdown",
   "id": "bafed972",
   "metadata": {},
   "source": [
    "## NHCLP2A\n",
    "###\t2. Durante los ÚLTIMOS 12 MESES, ¿de cuáles de los siguientes hechos ha sido víctima usted o alguna persona del hogar?:\n",
    "1. Atracos o robos\n",
    "2. Homicidios o asesinatos\n",
    "3. Persecusión o amenazas contra la vida\n",
    "4. Extorsión o chantaje\n",
    "5. Acoso (sexual, laboral, escolar, psicológico, ciberacoso)\n"
   ]
  },
  {
   "cell_type": "markdown",
   "id": "381247ab",
   "metadata": {},
   "source": [
    "## NHCLP2AA\n",
    "###\t2a. ¿Entre 1985 y el momento actual, usted o algún miembro del hogar ha sido víctima del conflicto armado?\t\n",
    "1. Sí\n",
    "2. No\n",
    "\n",
    "**Datos: **"
   ]
  },
  {
   "cell_type": "markdown",
   "metadata": {},
   "source": [
    "## NHCLP2AB\n",
    "###\t2a. 1. ¿Alguna de estas personas fue víctima de desplazamiento forzado?\t\n",
    "1. Sí\n",
    "2. No\n",
    "\n",
    "**Datos: **"
   ]
  },
  {
   "cell_type": "markdown",
   "metadata": {},
   "source": [
    "## NHCLP2AC\n",
    "###\t2a. 2. ¿Alguna de estas personas se encuentra incluida en el Registro Único de Víctimas-RUV?\t\n",
    "1. Sí \n",
    "2. No\n",
    "9. No sabe\n",
    "\n",
    "**Datos: **"
   ]
  },
  {
   "cell_type": "markdown",
   "metadata": {},
   "source": [
    "## NHCLP5\n",
    "###\t5. Usted piensa que el nivel de vida actual de su hogar, respecto al que tenía 5 años atrás es:\t\n",
    "1. Mejor\n",
    "2. Igual\n",
    "3. Peor\n",
    "\n",
    "**Datos: **"
   ]
  },
  {
   "cell_type": "markdown",
   "metadata": {},
   "source": [
    "## NHCLP7A\t\n",
    "### 7. Entre el  año 2017 y el momento actual ¿cree que  la ciudad ha mejorado, empeorado o se mantiene igual, en cada uno de los siguientes equipamientos?:\n",
    "1. Vías y puentes vehiculares\n",
    "2. Andenes\n",
    "3. Puentes peatonales\n",
    "4. Ciclorutas\n",
    "5. Parques y zonas verdes\n",
    "6. Hospitales y centros de salud\n",
    "7. Colegios\n",
    "8. Sistema Integrado de Transporte (Trasmilenio, alimentadores, SITP)\n",
    "9. Escenarios artísticos y culturales\n",
    "10. Escenarios deportivos\n",
    "11. Zonas comerciales\t\n",
    "\n",
    "Opciones\n",
    "1. Mejor\n",
    "2. Igual\n",
    "3. Peor\n",
    "9. No sabe\n",
    "\n",
    "**Datos: **"
   ]
  },
  {
   "cell_type": "markdown",
   "metadata": {},
   "source": [
    "## NHCLP8A\n",
    "###\t8. Entre el  año 2017 y el momento actual ¿cree que  la ciudad ha mejorado, empeorado o se mantiene igual, en cada uno de los siguientes aspectos?: \n",
    "1. Atención en las oficinas públicas del distrito\n",
    "2. Vigilancia, seguridad y reacción oportuna y eficiente de la policía\n",
    "3. Educación pública \n",
    "4. Transporte público urbano\n",
    "5. Programas de alimentación y nutrición\n",
    "6. Respeto a los derechos humanos\n",
    "7. Igualdad de oportunidades para las mujeres\n",
    "8.  Igualdad de oportunidades para las personas mayores\n",
    "9. Igualdad de oportunidades para la población en condición de discapacidad\n",
    "10. Igualdad de oportunidades para los grupos LGBTI (Lesbianas, Gays, Bisexuales, Transexuales, Intersexuales)\n",
    "11. Manera en que la Alcaldía de Bogotá comunica sus decisiones, acciones, resultados y oferta institucional\n",
    "12. En la lucha contra la corrupción en la ciudad\n",
    "13. Fortalecimiento de la participación ciudadana\n",
    "14. Protección y garantía de la libertad de conciencia, religiosa y de cultos\n",
    "Opciones\n",
    "1. Mejor\n",
    "2. Igual\n",
    "3. Peor\n",
    "9. No sabe\n",
    "\n",
    "**Datos: **"
   ]
  },
  {
   "cell_type": "markdown",
   "metadata": {},
   "source": [
    "## NHCLNP8C\n",
    "###\t8c. ¿De los siguientes aspectos cuál considera que es el más importante para que las entidades públicas mejoren su desempeño institucional?\t\n",
    "1. Estrategias de lucha contra la corrupción\n",
    "2. Participación ciudadana\n",
    "3. Mayor presencia de las entidades públicas en el territorio\n",
    "4. Servidores competentes\n",
    "5. Articulación entre el gobierno nacional y departamental\n",
    "6. Otro\n",
    "\n",
    "**Datos: **"
   ]
  },
  {
   "cell_type": "markdown",
   "id": "c30d572f",
   "metadata": {},
   "source": [
    "## NHCLP9A\n",
    "###\t9. Entre el  año 2017 y el momento actual ¿cree que  la ciudad ha mejorado, empeorado o se mantiene igual, en cada  uno de los siguientes aspectos ambientales?:\n",
    "1. Calidad del agua potable\t\n",
    "2. Calidad del aire\n",
    "3. Disposición de basuras\n",
    "4. Educación ambiental\n",
    "5. Barrido y aseo de calles\n",
    "6. Reciclaje de residuos\n",
    "\n",
    "Opciones\n",
    "1. Mejor\n",
    "2. Igual\n",
    "3. Peor\n",
    "9. No sabe\n",
    "\n",
    "**Datos: **"
   ]
  },
  {
   "cell_type": "markdown",
   "metadata": {},
   "source": [
    "## NHCLP10\n",
    "###\t10. Los ingresos de su hogar:\t\n",
    "1. No alcanzan para cubrir los gastos mínimos\n",
    "2. Solo alcanzan para cubrir los gastos mínimos\n",
    "3. Cubren más que los gastos mínimos\n",
    "\n",
    "**Datos: **"
   ]
  },
  {
   "cell_type": "markdown",
   "metadata": {},
   "source": [
    "## NHCLP12E\n",
    "###\t12. ¿Durante los ÚLTIMOS 12 MESES, alguna persona de este hogar recibió ayudas o subsidios en dinero o en especie de entidades del gobierno nacional, departamental o municipal por concepto de Otro:\n",
    "\t\n",
    "- 1. Sí\n",
    "- 2. No\n",
    "\n",
    "**Datos: **"
   ]
  },
  {
   "cell_type": "markdown",
   "metadata": {},
   "source": [
    "## NHCLP12_1\n",
    "### \t¿cuántos otros programas?\n",
    "\n",
    "**Datos: **"
   ]
  },
  {
   "cell_type": "markdown",
   "metadata": {},
   "source": [
    "## NHCLP12EB\n",
    "### ¿Cuántos miembros del hogar recibieron el subsidio?\n",
    "\n",
    "**Datos: **"
   ]
  },
  {
   "cell_type": "markdown",
   "id": "fa83e140",
   "metadata": {},
   "source": [
    "## NHCLP12EC\n",
    "###\t¿Cuánto recibieron en los últimos 12 meses\n",
    "\n",
    "**Datos: **"
   ]
  },
  {
   "cell_type": "markdown",
   "metadata": {},
   "source": [
    "## NHCLP12EB2\n",
    "###\t¿Cuántos miembros del hogar recibieron el subsidio?\n",
    "\n",
    "**Datos: **"
   ]
  },
  {
   "cell_type": "markdown",
   "metadata": {},
   "source": [
    "## NHCLP12EC2\n",
    "###\t¿Cuánto recibieron en los últimos 12 meses\n",
    "\n",
    "**Datos: **"
   ]
  },
  {
   "cell_type": "markdown",
   "metadata": {},
   "source": [
    "## NHCLNP12\n",
    "### \t12a. ¿Durante los últimos 12 meses este hogar recibió mercados en especie por parte del gobierno nacional, departamental o municipal?\t\n",
    "1. Sí\n",
    "2. No\n",
    "\n",
    "**Datos: **"
   ]
  },
  {
   "cell_type": "markdown",
   "id": "c22f8b5d",
   "metadata": {},
   "source": [
    "## NHCLNP12A\t\n",
    "### 1. ¿En cuánto estima el valor de todos los mercados recibidos?\n",
    "\n",
    "**Datos: **\n"
   ]
  },
  {
   "cell_type": "markdown",
   "metadata": {},
   "source": [
    "## NHCLNP12B\n",
    "###\t2. ¿Estos mercados: Los reciben periódicamente?\"\t\n",
    "1. Sí\n",
    "2. No\n",
    "\n",
    "**Datos: **"
   ]
  },
  {
   "cell_type": "markdown",
   "metadata": {},
   "source": [
    "## NHCLP14\n",
    "### \t13. ¿Por falta de dinero, alguna persona integrante del hogar no consumió ninguna de las tres comidas (desayuno, almuerzo, comida), uno o más días de la SEMANA PASADA? \t\n",
    "\n",
    "1. Sí\n",
    "2. No\n",
    "\n",
    "**Datos: **"
   ]
  },
  {
   "cell_type": "markdown",
   "metadata": {},
   "source": [
    "## NHCLP16\n",
    "###\t14. ¿En los ÚLTIMOS 30 DÍAS, por falta de dinero u otros recursos, ¿alguna vez usted se preocupó porque los alimentos se acabaran en su hogar?\t\n",
    "1. Sí\n",
    "2. No\n",
    "\n",
    "**Datos: **"
   ]
  },
  {
   "cell_type": "markdown",
   "id": "773e54b3",
   "metadata": {},
   "source": [
    "## NHCLP17\n",
    "### \t15. ¿En los ÚLTIMOS 30 DÍAS, por falta de dinero u otros recursos, ¿alguna vez en su hogar se quedaron sin alimentos?\t\n",
    "1. Sí\n",
    "2. No\n",
    "\n",
    "**Datos: **"
   ]
  },
  {
   "cell_type": "markdown",
   "id": "915c3d53",
   "metadata": {},
   "source": [
    "## NHCLP20\n",
    "###\t18. ¿En los ÚLTIMOS 30 DÍAS, por falta de dinero u otros recursos, ¿alguna vez usted o algún adulto en su hogar dejó de desayunar, almorzar o cenar?\t\n",
    "1. Sí\n",
    "2. No\n",
    "\n",
    "**Datos: **"
   ]
  },
  {
   "cell_type": "markdown",
   "id": "4d32483a",
   "metadata": {},
   "source": [
    "## NHCLP26\n",
    "###\t24. ¿En los ÚLTIMOS 30 DÍAS, por falta de dinero u otros recursos, ¿alguna vez algún menor de 18 años en su hogar dejó de desayunar, almorzar o cenar?\t\n",
    "1. Sí\n",
    "2. No\n",
    "\n",
    "**Datos: **"
   ]
  },
  {
   "cell_type": "markdown",
   "id": "6f63d3c8",
   "metadata": {},
   "source": [
    "## NHCLP29_1A\n",
    "###\t29. A raíz de la pandemia del coronavirus (COVID-19), ¿cuáles de las siguientes medidas tomaron los miembros del hogar para hacer frente a los efectos económicos:\n",
    "1. Uno o más miembros del hogar que no trabajaban empezaron a trabajar\n",
    "2. Adoptaron nuevas fuente de ingreso\n",
    "3. Cambiaron de vivienda\n",
    "4. Gastaron parte o todos sus ahorros\n",
    "5. Se endeudaron o ampliaron el plazo de alguna(s) deuda(s)\"\n",
    "6. Vendieron algunos bienes o activos (vivienda, moto, carro, electrodomésticos, lote)\n",
    "7. Arrendaron o hipotecaron la vivienda ocupada por el hogar\n",
    "8. Algún miembro del hogar tuvo que retirarse de la escuela, colegio, jardín, universidad o carrera técnica o tecnológica\n",
    "9. Disminuyeron el gasto en alimentos\n",
    "10. Pidieron ayuda de familiares, amigos u otras personas del barrio, pueblo o vereda\n",
    "11. Solicitaron subsidio de desempleo\n",
    "12. Ninguna de las anteriores\"\n",
    "\n",
    "**Datos: **"
   ]
  },
  {
   "cell_type": "markdown",
   "id": "d964acaf",
   "metadata": {},
   "source": [
    "## NHCLP31AA\n",
    "###\t31. En su hogar ¿Quién? ¿Aporta dinero al hogar?\n",
    "1. El/la jefe/a del hogar\n",
    "2. El/la cónyuge\n",
    "3. Otro(s) miembro(s) del hogar\n",
    "\n",
    "**Datos: **"
   ]
  },
  {
   "cell_type": "markdown",
   "metadata": {},
   "source": [
    "## NHCLP31BA\n",
    "###\t31. En su hogar ¿Quién? ¿Toma decisiones respecto al manejo del dinero?\n",
    "1. El/la jefe/a del hogar\n",
    "2. El/la cónyuge\n",
    "3. Otro(s) miembro(s) del hogar\n",
    "\n",
    "**Datos: **"
   ]
  },
  {
   "cell_type": "markdown",
   "metadata": {},
   "source": [
    "## NHCLP31CA\n",
    "###\t31. En su hogar ¿Quién ¿Toma decisiones sobre dónde estudian los menores de edad? (Solo si hay menores)\n",
    "1. El/la jefe/a del hogar\n",
    "2. El/la cónyuge\n",
    "3. 'Otro(s) miembro(s) del hogar\n",
    "\n",
    "**Datos: **"
   ]
  },
  {
   "cell_type": "code",
   "execution_count": null,
   "id": "25db5c69",
   "metadata": {},
   "outputs": [],
   "source": [
    "data.to_excel('Encuesta_Multiproposito_Suba.xlsx', index = False)"
   ]
  }
 ],
 "metadata": {
  "kernelspec": {
   "display_name": "Python 3.10.6 ('venv')",
   "language": "python",
   "name": "python3"
  },
  "language_info": {
   "codemirror_mode": {
    "name": "ipython",
    "version": 3
   },
   "file_extension": ".py",
   "mimetype": "text/x-python",
   "name": "python",
   "nbconvert_exporter": "python",
   "pygments_lexer": "ipython3",
   "version": "3.10.6"
  },
  "vscode": {
   "interpreter": {
    "hash": "fbb585ac3c251d6b0b7a5e57a0b78dca43942dfd52e7ce4ff50ca3997c0e00a9"
   }
  }
 },
 "nbformat": 4,
 "nbformat_minor": 5
}
